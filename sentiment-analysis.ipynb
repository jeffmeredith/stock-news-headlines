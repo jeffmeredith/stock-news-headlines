{
 "cells": [
  {
   "cell_type": "code",
   "execution_count": 1,
   "metadata": {},
   "outputs": [],
   "source": [
    "import pandas as pd\n",
    "import numpy as np\n",
    "import json\n",
    "import matplotlib.pyplot as plt\n",
    "import seaborn as sns"
   ]
  },
  {
   "cell_type": "markdown",
   "metadata": {},
   "source": [
    "Data Cleaning"
   ]
  },
  {
   "cell_type": "code",
   "execution_count": 2,
   "metadata": {},
   "outputs": [
    {
     "data": {
      "text/html": [
       "<div>\n",
       "<style scoped>\n",
       "    .dataframe tbody tr th:only-of-type {\n",
       "        vertical-align: middle;\n",
       "    }\n",
       "\n",
       "    .dataframe tbody tr th {\n",
       "        vertical-align: top;\n",
       "    }\n",
       "\n",
       "    .dataframe thead th {\n",
       "        text-align: right;\n",
       "    }\n",
       "</style>\n",
       "<table border=\"1\" class=\"dataframe\">\n",
       "  <thead>\n",
       "    <tr style=\"text-align: right;\">\n",
       "      <th></th>\n",
       "      <th>Date</th>\n",
       "      <th>close</th>\n",
       "      <th>future_close</th>\n",
       "      <th>price_move</th>\n",
       "      <th>price_increased</th>\n",
       "    </tr>\n",
       "  </thead>\n",
       "  <tbody>\n",
       "    <tr>\n",
       "      <th>0</th>\n",
       "      <td>1999/11/01</td>\n",
       "      <td>135.5625</td>\n",
       "      <td>141.6250</td>\n",
       "      <td>4.472107</td>\n",
       "      <td>True</td>\n",
       "    </tr>\n",
       "    <tr>\n",
       "      <th>1</th>\n",
       "      <td>1999/11/02</td>\n",
       "      <td>134.5937</td>\n",
       "      <td>142.6250</td>\n",
       "      <td>5.967070</td>\n",
       "      <td>True</td>\n",
       "    </tr>\n",
       "    <tr>\n",
       "      <th>2</th>\n",
       "      <td>1999/11/03</td>\n",
       "      <td>135.5000</td>\n",
       "      <td>142.5000</td>\n",
       "      <td>5.166052</td>\n",
       "      <td>True</td>\n",
       "    </tr>\n",
       "    <tr>\n",
       "      <th>3</th>\n",
       "      <td>1999/11/04</td>\n",
       "      <td>136.5312</td>\n",
       "      <td>142.4687</td>\n",
       "      <td>4.348823</td>\n",
       "      <td>True</td>\n",
       "    </tr>\n",
       "    <tr>\n",
       "      <th>4</th>\n",
       "      <td>1999/11/05</td>\n",
       "      <td>137.8750</td>\n",
       "      <td>141.2187</td>\n",
       "      <td>2.425168</td>\n",
       "      <td>True</td>\n",
       "    </tr>\n",
       "    <tr>\n",
       "      <th>...</th>\n",
       "      <td>...</td>\n",
       "      <td>...</td>\n",
       "      <td>...</td>\n",
       "      <td>...</td>\n",
       "      <td>...</td>\n",
       "    </tr>\n",
       "    <tr>\n",
       "      <th>6070</th>\n",
       "      <td>2023/12/15</td>\n",
       "      <td>469.3300</td>\n",
       "      <td>467.2800</td>\n",
       "      <td>-0.436793</td>\n",
       "      <td>False</td>\n",
       "    </tr>\n",
       "    <tr>\n",
       "      <th>6071</th>\n",
       "      <td>2023/12/18</td>\n",
       "      <td>471.9700</td>\n",
       "      <td>467.9200</td>\n",
       "      <td>-0.858105</td>\n",
       "      <td>False</td>\n",
       "    </tr>\n",
       "    <tr>\n",
       "      <th>6072</th>\n",
       "      <td>2023/12/19</td>\n",
       "      <td>474.8400</td>\n",
       "      <td>474.6000</td>\n",
       "      <td>-0.050543</td>\n",
       "      <td>False</td>\n",
       "    </tr>\n",
       "    <tr>\n",
       "      <th>6073</th>\n",
       "      <td>2023/12/20</td>\n",
       "      <td>468.2600</td>\n",
       "      <td>473.8800</td>\n",
       "      <td>1.200188</td>\n",
       "      <td>True</td>\n",
       "    </tr>\n",
       "    <tr>\n",
       "      <th>6074</th>\n",
       "      <td>2023/12/21</td>\n",
       "      <td>472.7000</td>\n",
       "      <td>476.5600</td>\n",
       "      <td>0.816586</td>\n",
       "      <td>True</td>\n",
       "    </tr>\n",
       "  </tbody>\n",
       "</table>\n",
       "<p>6075 rows × 5 columns</p>\n",
       "</div>"
      ],
      "text/plain": [
       "            Date     close  future_close  price_move  price_increased\n",
       "0     1999/11/01  135.5625      141.6250    4.472107             True\n",
       "1     1999/11/02  134.5937      142.6250    5.967070             True\n",
       "2     1999/11/03  135.5000      142.5000    5.166052             True\n",
       "3     1999/11/04  136.5312      142.4687    4.348823             True\n",
       "4     1999/11/05  137.8750      141.2187    2.425168             True\n",
       "...          ...       ...           ...         ...              ...\n",
       "6070  2023/12/15  469.3300      467.2800   -0.436793            False\n",
       "6071  2023/12/18  471.9700      467.9200   -0.858105            False\n",
       "6072  2023/12/19  474.8400      474.6000   -0.050543            False\n",
       "6073  2023/12/20  468.2600      473.8800    1.200188             True\n",
       "6074  2023/12/21  472.7000      476.5600    0.816586             True\n",
       "\n",
       "[6075 rows x 5 columns]"
      ]
     },
     "execution_count": 2,
     "metadata": {},
     "output_type": "execute_result"
    }
   ],
   "source": [
    "# read in the stock data and engineer the label column by\n",
    "# looking at change in stock price between now and future date\n",
    "\n",
    "with open('data/stock-data.json') as in_file:\n",
    "    stock_data = json.load(in_file)\n",
    "snp_df = pd.DataFrame(stock_data['Time Series (Daily)']).T\n",
    "snp_df = snp_df.rename(columns={'4. close': 'close'})[['close']].sort_index()\n",
    "snp_df['close'] = snp_df['close'].astype(float)\n",
    "snp_df = snp_df.reset_index().rename(columns={'index':'Date'})\n",
    "snp_df['Date'] = snp_df['Date'].str.replace('-', '/')\n",
    "snp_df['future_close'] = snp_df['close'].shift(-12)\n",
    "snp_df = snp_df.dropna(subset=['future_close'])\n",
    "snp_df['price_move'] = (snp_df['future_close'] - snp_df['close']) / snp_df['close'] * 100\n",
    "snp_df['price_increased'] = snp_df['price_move'] > 0\n",
    "snp_df"
   ]
  },
  {
   "cell_type": "code",
   "execution_count": 3,
   "metadata": {},
   "outputs": [
    {
     "data": {
      "text/html": [
       "<div>\n",
       "<style scoped>\n",
       "    .dataframe tbody tr th:only-of-type {\n",
       "        vertical-align: middle;\n",
       "    }\n",
       "\n",
       "    .dataframe tbody tr th {\n",
       "        vertical-align: top;\n",
       "    }\n",
       "\n",
       "    .dataframe thead th {\n",
       "        text-align: right;\n",
       "    }\n",
       "</style>\n",
       "<table border=\"1\" class=\"dataframe\">\n",
       "  <thead>\n",
       "    <tr style=\"text-align: right;\">\n",
       "      <th></th>\n",
       "      <th>index</th>\n",
       "      <th>Date</th>\n",
       "      <th>Headline</th>\n",
       "      <th>close</th>\n",
       "      <th>future_close</th>\n",
       "      <th>price_move</th>\n",
       "      <th>price_increased</th>\n",
       "    </tr>\n",
       "  </thead>\n",
       "  <tbody>\n",
       "    <tr>\n",
       "      <th>0</th>\n",
       "      <td>34</td>\n",
       "      <td>2001/01/02</td>\n",
       "      <td>The Right Recipe for Republicans</td>\n",
       "      <td>128.8125</td>\n",
       "      <td>134.0156</td>\n",
       "      <td>4.039282</td>\n",
       "      <td>True</td>\n",
       "    </tr>\n",
       "    <tr>\n",
       "      <th>32</th>\n",
       "      <td>66</td>\n",
       "      <td>2001/01/02</td>\n",
       "      <td>Intershop Profit Warning Hits Market</td>\n",
       "      <td>128.8125</td>\n",
       "      <td>134.0156</td>\n",
       "      <td>4.039282</td>\n",
       "      <td>True</td>\n",
       "    </tr>\n",
       "    <tr>\n",
       "      <th>33</th>\n",
       "      <td>67</td>\n",
       "      <td>2001/01/02</td>\n",
       "      <td>CAC Falls as Telecoms Slide</td>\n",
       "      <td>128.8125</td>\n",
       "      <td>134.0156</td>\n",
       "      <td>4.039282</td>\n",
       "      <td>True</td>\n",
       "    </tr>\n",
       "    <tr>\n",
       "      <th>34</th>\n",
       "      <td>68</td>\n",
       "      <td>2001/01/02</td>\n",
       "      <td>Muscadet With Shrimp</td>\n",
       "      <td>128.8125</td>\n",
       "      <td>134.0156</td>\n",
       "      <td>4.039282</td>\n",
       "      <td>True</td>\n",
       "    </tr>\n",
       "    <tr>\n",
       "      <th>35</th>\n",
       "      <td>69</td>\n",
       "      <td>2001/01/02</td>\n",
       "      <td>Allergic to Most Wine</td>\n",
       "      <td>128.8125</td>\n",
       "      <td>134.0156</td>\n",
       "      <td>4.039282</td>\n",
       "      <td>True</td>\n",
       "    </tr>\n",
       "    <tr>\n",
       "      <th>...</th>\n",
       "      <td>...</td>\n",
       "      <td>...</td>\n",
       "      <td>...</td>\n",
       "      <td>...</td>\n",
       "      <td>...</td>\n",
       "      <td>...</td>\n",
       "      <td>...</td>\n",
       "    </tr>\n",
       "    <tr>\n",
       "      <th>346609</th>\n",
       "      <td>461156</td>\n",
       "      <td>2023/12/21</td>\n",
       "      <td>Peyton s Places  The Santa Game  Philadelphia...</td>\n",
       "      <td>472.7000</td>\n",
       "      <td>476.5600</td>\n",
       "      <td>0.816586</td>\n",
       "      <td>True</td>\n",
       "    </tr>\n",
       "    <tr>\n",
       "      <th>346610</th>\n",
       "      <td>461157</td>\n",
       "      <td>2023/12/21</td>\n",
       "      <td>All of Us Strangers  Review  A Ghostly Drama ...</td>\n",
       "      <td>472.7000</td>\n",
       "      <td>476.5600</td>\n",
       "      <td>0.816586</td>\n",
       "      <td>True</td>\n",
       "    </tr>\n",
       "    <tr>\n",
       "      <th>346611</th>\n",
       "      <td>461158</td>\n",
       "      <td>2023/12/21</td>\n",
       "      <td>The Color Purple  Bright Movie  Big Emotions</td>\n",
       "      <td>472.7000</td>\n",
       "      <td>476.5600</td>\n",
       "      <td>0.816586</td>\n",
       "      <td>True</td>\n",
       "    </tr>\n",
       "    <tr>\n",
       "      <th>346613</th>\n",
       "      <td>461160</td>\n",
       "      <td>2023/12/21</td>\n",
       "      <td>Ultragenyx to Pay   Million to Settle Alleged ...</td>\n",
       "      <td>472.7000</td>\n",
       "      <td>476.5600</td>\n",
       "      <td>0.816586</td>\n",
       "      <td>True</td>\n",
       "    </tr>\n",
       "    <tr>\n",
       "      <th>346644</th>\n",
       "      <td>461191</td>\n",
       "      <td>2023/12/21</td>\n",
       "      <td>Why Is Shari Redstone  Ruler of a Vast Media K...</td>\n",
       "      <td>472.7000</td>\n",
       "      <td>476.5600</td>\n",
       "      <td>0.816586</td>\n",
       "      <td>True</td>\n",
       "    </tr>\n",
       "  </tbody>\n",
       "</table>\n",
       "<p>346645 rows × 7 columns</p>\n",
       "</div>"
      ],
      "text/plain": [
       "         index        Date                                           Headline  \\\n",
       "0           34  2001/01/02                   The Right Recipe for Republicans   \n",
       "32          66  2001/01/02               Intershop Profit Warning Hits Market   \n",
       "33          67  2001/01/02                        CAC Falls as Telecoms Slide   \n",
       "34          68  2001/01/02                               Muscadet With Shrimp   \n",
       "35          69  2001/01/02                              Allergic to Most Wine   \n",
       "...        ...         ...                                                ...   \n",
       "346609  461156  2023/12/21   Peyton s Places  The Santa Game  Philadelphia...   \n",
       "346610  461157  2023/12/21   All of Us Strangers  Review  A Ghostly Drama ...   \n",
       "346611  461158  2023/12/21       The Color Purple  Bright Movie  Big Emotions   \n",
       "346613  461160  2023/12/21  Ultragenyx to Pay   Million to Settle Alleged ...   \n",
       "346644  461191  2023/12/21  Why Is Shari Redstone  Ruler of a Vast Media K...   \n",
       "\n",
       "           close  future_close  price_move price_increased  \n",
       "0       128.8125      134.0156    4.039282            True  \n",
       "32      128.8125      134.0156    4.039282            True  \n",
       "33      128.8125      134.0156    4.039282            True  \n",
       "34      128.8125      134.0156    4.039282            True  \n",
       "35      128.8125      134.0156    4.039282            True  \n",
       "...          ...           ...         ...             ...  \n",
       "346609  472.7000      476.5600    0.816586            True  \n",
       "346610  472.7000      476.5600    0.816586            True  \n",
       "346611  472.7000      476.5600    0.816586            True  \n",
       "346613  472.7000      476.5600    0.816586            True  \n",
       "346644  472.7000      476.5600    0.816586            True  \n",
       "\n",
       "[346645 rows x 7 columns]"
      ]
     },
     "execution_count": 3,
     "metadata": {},
     "output_type": "execute_result"
    }
   ],
   "source": [
    "# read in headlines data and remove punctuation\n",
    "\n",
    "news_df = pd.read_csv('data/headlines.csv')\n",
    "news_df = news_df.merge(snp_df, how='left', on='Date')\n",
    "news_df = news_df.dropna(subset=['price_increased', 'Headline'])\n",
    "news_df['Headline'].replace(\"[^a-zA-Z ]+\",\" \",regex=True, inplace=True)\n",
    "news_df = news_df.reset_index().sort_values('Date')\n",
    "news_df"
   ]
  },
  {
   "cell_type": "code",
   "execution_count": 4,
   "metadata": {},
   "outputs": [
    {
     "data": {
      "image/png": "[encoded data removed]",
      "text/plain": [
       "<Figure size 720x360 with 1 Axes>"
      ]
     },
     "metadata": {
      "needs_background": "light"
     },
     "output_type": "display_data"
    }
   ],
   "source": [
    "ax = news_df['price_increased'].value_counts().sort_index().plot(kind='bar', title='Count of Headlines by Price Increase', figsize=(10, 5))\n",
    "ax.set_xlabel('Price Increased (T/F)')\n",
    "plt.show()"
   ]
  },
  {
   "cell_type": "markdown",
   "metadata": {},
   "source": [
    "Sentiment Intensity Analysis"
   ]
  },
  {
   "cell_type": "code",
   "execution_count": 29,
   "metadata": {},
   "outputs": [
    {
     "name": "stderr",
     "output_type": "stream",
     "text": [
      "[nltk_data] Downloading package vader_lexicon to\n",
      "[nltk_data]     C:\\Users\\Jeffrey\\AppData\\Roaming\\nltk_data...\n",
      "[nltk_data]   Package vader_lexicon is already up-to-date!\n"
     ]
    }
   ],
   "source": [
    "# import pre-trained sentiment analysis model\n",
    "\n",
    "import nltk\n",
    "nltk.downloader.download('vader_lexicon')\n",
    "from nltk.sentiment import SentimentIntensityAnalyzer"
   ]
  },
  {
   "cell_type": "code",
   "execution_count": 8,
   "metadata": {},
   "outputs": [],
   "source": [
    "# get sentiment scores for each headline\n",
    "\n",
    "sia = SentimentIntensityAnalyzer()\n",
    "\n",
    "results = {}\n",
    "\n",
    "for i, row in news_df.iterrows():\n",
    "    headline = row['Headline']\n",
    "    id = row['index']\n",
    "    results[id] = sia.polarity_scores(headline)"
   ]
  },
  {
   "cell_type": "code",
   "execution_count": 9,
   "metadata": {},
   "outputs": [],
   "source": [
    "vaders = pd.DataFrame(results).T\n",
    "vaders = vaders.reset_index()\n",
    "vaders = vaders.merge(news_df, how='left', on='index')"
   ]
  },
  {
   "cell_type": "code",
   "execution_count": 10,
   "metadata": {},
   "outputs": [
    {
     "data": {
      "text/html": [
       "<div>\n",
       "<style scoped>\n",
       "    .dataframe tbody tr th:only-of-type {\n",
       "        vertical-align: middle;\n",
       "    }\n",
       "\n",
       "    .dataframe tbody tr th {\n",
       "        vertical-align: top;\n",
       "    }\n",
       "\n",
       "    .dataframe thead th {\n",
       "        text-align: right;\n",
       "    }\n",
       "</style>\n",
       "<table border=\"1\" class=\"dataframe\">\n",
       "  <thead>\n",
       "    <tr style=\"text-align: right;\">\n",
       "      <th></th>\n",
       "      <th>index</th>\n",
       "      <th>neg</th>\n",
       "      <th>neu</th>\n",
       "      <th>pos</th>\n",
       "      <th>compound</th>\n",
       "      <th>Date</th>\n",
       "      <th>Headline</th>\n",
       "      <th>close</th>\n",
       "      <th>future_close</th>\n",
       "      <th>price_move</th>\n",
       "      <th>price_increased</th>\n",
       "    </tr>\n",
       "  </thead>\n",
       "  <tbody>\n",
       "    <tr>\n",
       "      <th>0</th>\n",
       "      <td>34</td>\n",
       "      <td>0.000</td>\n",
       "      <td>1.000</td>\n",
       "      <td>0.000</td>\n",
       "      <td>0.000</td>\n",
       "      <td>2001/01/02</td>\n",
       "      <td>The Right Recipe for Republicans</td>\n",
       "      <td>128.8125</td>\n",
       "      <td>134.0156</td>\n",
       "      <td>4.039282</td>\n",
       "      <td>True</td>\n",
       "    </tr>\n",
       "    <tr>\n",
       "      <th>1</th>\n",
       "      <td>66</td>\n",
       "      <td>0.289</td>\n",
       "      <td>0.361</td>\n",
       "      <td>0.349</td>\n",
       "      <td>0.128</td>\n",
       "      <td>2001/01/02</td>\n",
       "      <td>Intershop Profit Warning Hits Market</td>\n",
       "      <td>128.8125</td>\n",
       "      <td>134.0156</td>\n",
       "      <td>4.039282</td>\n",
       "      <td>True</td>\n",
       "    </tr>\n",
       "    <tr>\n",
       "      <th>2</th>\n",
       "      <td>67</td>\n",
       "      <td>0.000</td>\n",
       "      <td>1.000</td>\n",
       "      <td>0.000</td>\n",
       "      <td>0.000</td>\n",
       "      <td>2001/01/02</td>\n",
       "      <td>CAC Falls as Telecoms Slide</td>\n",
       "      <td>128.8125</td>\n",
       "      <td>134.0156</td>\n",
       "      <td>4.039282</td>\n",
       "      <td>True</td>\n",
       "    </tr>\n",
       "    <tr>\n",
       "      <th>3</th>\n",
       "      <td>68</td>\n",
       "      <td>0.000</td>\n",
       "      <td>1.000</td>\n",
       "      <td>0.000</td>\n",
       "      <td>0.000</td>\n",
       "      <td>2001/01/02</td>\n",
       "      <td>Muscadet With Shrimp</td>\n",
       "      <td>128.8125</td>\n",
       "      <td>134.0156</td>\n",
       "      <td>4.039282</td>\n",
       "      <td>True</td>\n",
       "    </tr>\n",
       "    <tr>\n",
       "      <th>4</th>\n",
       "      <td>69</td>\n",
       "      <td>0.423</td>\n",
       "      <td>0.577</td>\n",
       "      <td>0.000</td>\n",
       "      <td>-0.296</td>\n",
       "      <td>2001/01/02</td>\n",
       "      <td>Allergic to Most Wine</td>\n",
       "      <td>128.8125</td>\n",
       "      <td>134.0156</td>\n",
       "      <td>4.039282</td>\n",
       "      <td>True</td>\n",
       "    </tr>\n",
       "  </tbody>\n",
       "</table>\n",
       "</div>"
      ],
      "text/plain": [
       "   index    neg    neu    pos  compound        Date  \\\n",
       "0     34  0.000  1.000  0.000     0.000  2001/01/02   \n",
       "1     66  0.289  0.361  0.349     0.128  2001/01/02   \n",
       "2     67  0.000  1.000  0.000     0.000  2001/01/02   \n",
       "3     68  0.000  1.000  0.000     0.000  2001/01/02   \n",
       "4     69  0.423  0.577  0.000    -0.296  2001/01/02   \n",
       "\n",
       "                               Headline     close  future_close  price_move  \\\n",
       "0      The Right Recipe for Republicans  128.8125      134.0156    4.039282   \n",
       "1  Intershop Profit Warning Hits Market  128.8125      134.0156    4.039282   \n",
       "2           CAC Falls as Telecoms Slide  128.8125      134.0156    4.039282   \n",
       "3                  Muscadet With Shrimp  128.8125      134.0156    4.039282   \n",
       "4                 Allergic to Most Wine  128.8125      134.0156    4.039282   \n",
       "\n",
       "  price_increased  \n",
       "0            True  \n",
       "1            True  \n",
       "2            True  \n",
       "3            True  \n",
       "4            True  "
      ]
     },
     "execution_count": 10,
     "metadata": {},
     "output_type": "execute_result"
    }
   ],
   "source": [
    "vaders.head()"
   ]
  },
  {
   "cell_type": "code",
   "execution_count": 11,
   "metadata": {},
   "outputs": [
    {
     "data": {
      "image/png": "[encoded data removed]",
      "text/plain": [
       "<Figure size 432x288 with 1 Axes>"
      ]
     },
     "metadata": {
      "needs_background": "light"
     },
     "output_type": "display_data"
    }
   ],
   "source": [
    "plt.hist(vaders['compound'], bins=10, color='skyblue', edgecolor='black', alpha=0.7)\n",
    "\n",
    "plt.xlabel('Compound Sentiment Score')\n",
    "plt.ylabel('Frequency')\n",
    "plt.title('Distribution of Compound Scores')\n",
    "plt.show()"
   ]
  },
  {
   "cell_type": "code",
   "execution_count": 12,
   "metadata": {},
   "outputs": [
    {
     "data": {
      "image/png": "[encoded data removed]",
      "text/plain": [
       "<Figure size 432x288 with 1 Axes>"
      ]
     },
     "metadata": {
      "needs_background": "light"
     },
     "output_type": "display_data"
    }
   ],
   "source": [
    "ax = sns.barplot(data=vaders, x='price_increased', y='compound')\n",
    "ax.set_title('Compund Score by Price Increased (T/F)')\n",
    "plt.show()"
   ]
  },
  {
   "cell_type": "code",
   "execution_count": 13,
   "metadata": {},
   "outputs": [
    {
     "data": {
      "image/png": "[encoded data removed]",
      "text/plain": [
       "<Figure size 864x216 with 3 Axes>"
      ]
     },
     "metadata": {
      "needs_background": "light"
     },
     "output_type": "display_data"
    }
   ],
   "source": [
    "fig, axs = plt.subplots(1, 3, figsize=(12, 3))\n",
    "sns.barplot(data=vaders, x='price_increased', y='pos', ax=axs[0])\n",
    "sns.barplot(data=vaders, x='price_increased', y='neu', ax=axs[1])\n",
    "sns.barplot(data=vaders, x='price_increased', y='neg', ax=axs[2])\n",
    "axs[0].set_title('Positive')\n",
    "axs[1].set_title('Neutral')\n",
    "axs[2].set_title('Negative')\n",
    "plt.tight_layout()\n",
    "plt.show()"
   ]
  },
  {
   "cell_type": "markdown",
   "metadata": {},
   "source": [
    "Basic Logistic Regression Classification Using Sentiment Features"
   ]
  },
  {
   "cell_type": "code",
   "execution_count": 48,
   "metadata": {},
   "outputs": [],
   "source": [
    "from sklearn.model_selection import train_test_split\n",
    "from sklearn.linear_model import LogisticRegression\n",
    "from sklearn.metrics import accuracy_score, classification_report"
   ]
  },
  {
   "cell_type": "code",
   "execution_count": 49,
   "metadata": {},
   "outputs": [],
   "source": [
    "# group by date and then take the average of each\n",
    "# negative, neutral, and positive sentiment intensity score\n",
    "avg_sentiment_df = vaders.groupby('Date').agg({'neg': 'mean', 'neu': 'mean', 'pos': 'mean', 'price_increased': lambda x: all(x)})\n"
   ]
  },
  {
   "cell_type": "code",
   "execution_count": 50,
   "metadata": {},
   "outputs": [],
   "source": [
    "sentiment_X = avg_sentiment_df[['neg', 'neu', 'pos']]\n",
    "sentiment_y = avg_sentiment_df['price_increased']\n",
    "sentiment_X_train, sentiment_X_test, sentiment_y_train, sentiment_y_test = train_test_split(sentiment_X, sentiment_y, test_size=0.2, random_state=12)"
   ]
  },
  {
   "cell_type": "code",
   "execution_count": 51,
   "metadata": {},
   "outputs": [
    {
     "data": {
      "text/html": [
       "<style>#sk-container-id-3 {color: black;}#sk-container-id-3 pre{padding: 0;}#sk-container-id-3 div.sk-toggleable {background-color: white;}#sk-container-id-3 label.sk-toggleable__label {cursor: pointer;display: block;width: 100%;margin-bottom: 0;padding: 0.3em;box-sizing: border-box;text-align: center;}#sk-container-id-3 label.sk-toggleable__label-arrow:before {content: \"▸\";float: left;margin-right: 0.25em;color: #696969;}#sk-container-id-3 label.sk-toggleable__label-arrow:hover:before {color: black;}#sk-container-id-3 div.sk-estimator:hover label.sk-toggleable__label-arrow:before {color: black;}#sk-container-id-3 div.sk-toggleable__content {max-height: 0;max-width: 0;overflow: hidden;text-align: left;background-color: #f0f8ff;}#sk-container-id-3 div.sk-toggleable__content pre {margin: 0.2em;color: black;border-radius: 0.25em;background-color: #f0f8ff;}#sk-container-id-3 input.sk-toggleable__control:checked~div.sk-toggleable__content {max-height: 200px;max-width: 100%;overflow: auto;}#sk-container-id-3 input.sk-toggleable__control:checked~label.sk-toggleable__label-arrow:before {content: \"▾\";}#sk-container-id-3 div.sk-estimator input.sk-toggleable__control:checked~label.sk-toggleable__label {background-color: #d4ebff;}#sk-container-id-3 div.sk-label input.sk-toggleable__control:checked~label.sk-toggleable__label {background-color: #d4ebff;}#sk-container-id-3 input.sk-hidden--visually {border: 0;clip: rect(1px 1px 1px 1px);clip: rect(1px, 1px, 1px, 1px);height: 1px;margin: -1px;overflow: hidden;padding: 0;position: absolute;width: 1px;}#sk-container-id-3 div.sk-estimator {font-family: monospace;background-color: #f0f8ff;border: 1px dotted black;border-radius: 0.25em;box-sizing: border-box;margin-bottom: 0.5em;}#sk-container-id-3 div.sk-estimator:hover {background-color: #d4ebff;}#sk-container-id-3 div.sk-parallel-item::after {content: \"\";width: 100%;border-bottom: 1px solid gray;flex-grow: 1;}#sk-container-id-3 div.sk-label:hover label.sk-toggleable__label {background-color: #d4ebff;}#sk-container-id-3 div.sk-serial::before {content: \"\";position: absolute;border-left: 1px solid gray;box-sizing: border-box;top: 0;bottom: 0;left: 50%;z-index: 0;}#sk-container-id-3 div.sk-serial {display: flex;flex-direction: column;align-items: center;background-color: white;padding-right: 0.2em;padding-left: 0.2em;position: relative;}#sk-container-id-3 div.sk-item {position: relative;z-index: 1;}#sk-container-id-3 div.sk-parallel {display: flex;align-items: stretch;justify-content: center;background-color: white;position: relative;}#sk-container-id-3 div.sk-item::before, #sk-container-id-3 div.sk-parallel-item::before {content: \"\";position: absolute;border-left: 1px solid gray;box-sizing: border-box;top: 0;bottom: 0;left: 50%;z-index: -1;}#sk-container-id-3 div.sk-parallel-item {display: flex;flex-direction: column;z-index: 1;position: relative;background-color: white;}#sk-container-id-3 div.sk-parallel-item:first-child::after {align-self: flex-end;width: 50%;}#sk-container-id-3 div.sk-parallel-item:last-child::after {align-self: flex-start;width: 50%;}#sk-container-id-3 div.sk-parallel-item:only-child::after {width: 0;}#sk-container-id-3 div.sk-dashed-wrapped {border: 1px dashed gray;margin: 0 0.4em 0.5em 0.4em;box-sizing: border-box;padding-bottom: 0.4em;background-color: white;}#sk-container-id-3 div.sk-label label {font-family: monospace;font-weight: bold;display: inline-block;line-height: 1.2em;}#sk-container-id-3 div.sk-label-container {text-align: center;}#sk-container-id-3 div.sk-container {/* jupyter's `normalize.less` sets `[hidden] { display: none; }` but bootstrap.min.css set `[hidden] { display: none !important; }` so we also need the `!important` here to be able to override the default hidden behavior on the sphinx rendered scikit-learn.org. See: https://github.com/scikit-learn/scikit-learn/issues/21755 */display: inline-block !important;position: relative;}#sk-container-id-3 div.sk-text-repr-fallback {display: none;}</style><div id=\"sk-container-id-3\" class=\"sk-top-container\"><div class=\"sk-text-repr-fallback\"><pre>LogisticRegression()</pre><b>In a Jupyter environment, please rerun this cell to show the HTML representation or trust the notebook. <br />On GitHub, the HTML representation is unable to render, please try loading this page with nbviewer.org.</b></div><div class=\"sk-container\" hidden><div class=\"sk-item\"><div class=\"sk-estimator sk-toggleable\"><input class=\"sk-toggleable__control sk-hidden--visually\" id=\"sk-estimator-id-3\" type=\"checkbox\" checked><label for=\"sk-estimator-id-3\" class=\"sk-toggleable__label sk-toggleable__label-arrow\">LogisticRegression</label><div class=\"sk-toggleable__content\"><pre>LogisticRegression()</pre></div></div></div></div></div>"
      ],
      "text/plain": [
       "LogisticRegression()"
      ]
     },
     "execution_count": 51,
     "metadata": {},
     "output_type": "execute_result"
    }
   ],
   "source": [
    "# Initialize and train the Logistic Regression model\n",
    "sentiment_model = LogisticRegression()\n",
    "sentiment_model.fit(sentiment_X_train, sentiment_y_train)"
   ]
  },
  {
   "cell_type": "code",
   "execution_count": 52,
   "metadata": {},
   "outputs": [
    {
     "name": "stdout",
     "output_type": "stream",
     "text": [
      "Accuracy: 0.5960\n",
      "Classification Report:\n",
      "              precision    recall  f1-score   support\n",
      "\n",
      "       False       0.00      0.00      0.00       467\n",
      "        True       0.60      1.00      0.75       689\n",
      "\n",
      "    accuracy                           0.60      1156\n",
      "   macro avg       0.30      0.50      0.37      1156\n",
      "weighted avg       0.36      0.60      0.45      1156\n",
      "\n"
     ]
    },
    {
     "name": "stderr",
     "output_type": "stream",
     "text": [
      "c:\\Users\\Jeffrey\\AppData\\Local\\Programs\\Python\\Python310\\lib\\site-packages\\sklearn\\metrics\\_classification.py:1469: UndefinedMetricWarning: Precision and F-score are ill-defined and being set to 0.0 in labels with no predicted samples. Use `zero_division` parameter to control this behavior.\n",
      "  _warn_prf(average, modifier, msg_start, len(result))\n",
      "c:\\Users\\Jeffrey\\AppData\\Local\\Programs\\Python\\Python310\\lib\\site-packages\\sklearn\\metrics\\_classification.py:1469: UndefinedMetricWarning: Precision and F-score are ill-defined and being set to 0.0 in labels with no predicted samples. Use `zero_division` parameter to control this behavior.\n",
      "  _warn_prf(average, modifier, msg_start, len(result))\n",
      "c:\\Users\\Jeffrey\\AppData\\Local\\Programs\\Python\\Python310\\lib\\site-packages\\sklearn\\metrics\\_classification.py:1469: UndefinedMetricWarning: Precision and F-score are ill-defined and being set to 0.0 in labels with no predicted samples. Use `zero_division` parameter to control this behavior.\n",
      "  _warn_prf(average, modifier, msg_start, len(result))\n"
     ]
    }
   ],
   "source": [
    "# Make predictions on the test set\n",
    "sentiment_y_pred = sentiment_model.predict(sentiment_X_test)\n",
    "\n",
    "# Evaluate the model\n",
    "accuracy = accuracy_score(sentiment_y_test, sentiment_y_pred)\n",
    "classification_rep = classification_report(sentiment_y_test, sentiment_y_pred)\n",
    "\n",
    "print(f'Accuracy: {accuracy:.4f}')\n",
    "print('Classification Report:')\n",
    "print(classification_rep)"
   ]
  },
  {
   "cell_type": "code",
   "execution_count": 53,
   "metadata": {},
   "outputs": [
    {
     "data": {
      "image/png": "[encoded data removed]",
      "text/plain": [
       "<Figure size 432x288 with 1 Axes>"
      ]
     },
     "metadata": {
      "needs_background": "light"
     },
     "output_type": "display_data"
    }
   ],
   "source": [
    "unique_values, counts = np.unique(sentiment_y_pred, return_counts=True)\n",
    "\n",
    "# Create a bar chart\n",
    "plt.bar(unique_values, counts, color=['skyblue', 'orange'], edgecolor='black', alpha=0.7)\n",
    "\n",
    "# Customize the plot\n",
    "plt.title('Distribution of Predicted Values')\n",
    "plt.xlabel('Predicted Values')\n",
    "plt.ylabel('Frequency')\n",
    "\n",
    "# Show the plot\n",
    "plt.show()"
   ]
  },
  {
   "cell_type": "code",
   "execution_count": 61,
   "metadata": {},
   "outputs": [
    {
     "name": "stdout",
     "output_type": "stream",
     "text": [
      "Number of False predictions: 0\n"
     ]
    }
   ],
   "source": [
    "print(\"Number of False predictions: \" + str(np.sum(sentiment_y_pred == False)))"
   ]
  },
  {
   "cell_type": "markdown",
   "metadata": {},
   "source": [
    "Word2Vec with Long Short-Term Memory Neural Network Classification"
   ]
  },
  {
   "cell_type": "code",
   "execution_count": 54,
   "metadata": {},
   "outputs": [
    {
     "data": {
      "text/html": [
       "<div>\n",
       "<style scoped>\n",
       "    .dataframe tbody tr th:only-of-type {\n",
       "        vertical-align: middle;\n",
       "    }\n",
       "\n",
       "    .dataframe tbody tr th {\n",
       "        vertical-align: top;\n",
       "    }\n",
       "\n",
       "    .dataframe thead th {\n",
       "        text-align: right;\n",
       "    }\n",
       "</style>\n",
       "<table border=\"1\" class=\"dataframe\">\n",
       "  <thead>\n",
       "    <tr style=\"text-align: right;\">\n",
       "      <th></th>\n",
       "      <th>Date</th>\n",
       "      <th>Headline</th>\n",
       "      <th>price_increased</th>\n",
       "    </tr>\n",
       "  </thead>\n",
       "  <tbody>\n",
       "    <tr>\n",
       "      <th>0</th>\n",
       "      <td>2001/01/02</td>\n",
       "      <td>The Right Recipe for Republicans Intershop Pro...</td>\n",
       "      <td>True</td>\n",
       "    </tr>\n",
       "    <tr>\n",
       "      <th>1</th>\n",
       "      <td>2001/01/03</td>\n",
       "      <td>Schrempp Plans U S  Controlled Chrysler Techs ...</td>\n",
       "      <td>False</td>\n",
       "    </tr>\n",
       "    <tr>\n",
       "      <th>2</th>\n",
       "      <td>2001/01/04</td>\n",
       "      <td>Letsbuyit s Management Board Resigns Telecoms ...</td>\n",
       "      <td>True</td>\n",
       "    </tr>\n",
       "    <tr>\n",
       "      <th>3</th>\n",
       "      <td>2001/01/05</td>\n",
       "      <td>A Week of Diversions January     January   Sha...</td>\n",
       "      <td>True</td>\n",
       "    </tr>\n",
       "    <tr>\n",
       "      <th>4</th>\n",
       "      <td>2001/01/08</td>\n",
       "      <td>CAC Slips Amid Acquisitions Banking Sector Buo...</td>\n",
       "      <td>True</td>\n",
       "    </tr>\n",
       "    <tr>\n",
       "      <th>...</th>\n",
       "      <td>...</td>\n",
       "      <td>...</td>\n",
       "      <td>...</td>\n",
       "    </tr>\n",
       "    <tr>\n",
       "      <th>5775</th>\n",
       "      <td>2023/12/15</td>\n",
       "      <td>Hawaiian Lawmakers Want Overhaul in Fire Preve...</td>\n",
       "      <td>False</td>\n",
       "    </tr>\n",
       "    <tr>\n",
       "      <th>5776</th>\n",
       "      <td>2023/12/18</td>\n",
       "      <td>Vatican Issues Guidelines for Same Sex Blessin...</td>\n",
       "      <td>False</td>\n",
       "    </tr>\n",
       "    <tr>\n",
       "      <th>5777</th>\n",
       "      <td>2023/12/19</td>\n",
       "      <td>Fatherlessness  Crime and Striving to Succeed ...</td>\n",
       "      <td>False</td>\n",
       "    </tr>\n",
       "    <tr>\n",
       "      <th>5778</th>\n",
       "      <td>2023/12/20</td>\n",
       "      <td>Hamas Rejection Sours Israeli Bid to Revive Ho...</td>\n",
       "      <td>True</td>\n",
       "    </tr>\n",
       "    <tr>\n",
       "      <th>5779</th>\n",
       "      <td>2023/12/21</td>\n",
       "      <td>Notable   Quotable  Lock Him Up The Thrill of ...</td>\n",
       "      <td>True</td>\n",
       "    </tr>\n",
       "  </tbody>\n",
       "</table>\n",
       "<p>5780 rows × 3 columns</p>\n",
       "</div>"
      ],
      "text/plain": [
       "            Date                                           Headline  \\\n",
       "0     2001/01/02  The Right Recipe for Republicans Intershop Pro...   \n",
       "1     2001/01/03  Schrempp Plans U S  Controlled Chrysler Techs ...   \n",
       "2     2001/01/04  Letsbuyit s Management Board Resigns Telecoms ...   \n",
       "3     2001/01/05  A Week of Diversions January     January   Sha...   \n",
       "4     2001/01/08  CAC Slips Amid Acquisitions Banking Sector Buo...   \n",
       "...          ...                                                ...   \n",
       "5775  2023/12/15  Hawaiian Lawmakers Want Overhaul in Fire Preve...   \n",
       "5776  2023/12/18  Vatican Issues Guidelines for Same Sex Blessin...   \n",
       "5777  2023/12/19  Fatherlessness  Crime and Striving to Succeed ...   \n",
       "5778  2023/12/20  Hamas Rejection Sours Israeli Bid to Revive Ho...   \n",
       "5779  2023/12/21  Notable   Quotable  Lock Him Up The Thrill of ...   \n",
       "\n",
       "      price_increased  \n",
       "0                True  \n",
       "1               False  \n",
       "2                True  \n",
       "3                True  \n",
       "4                True  \n",
       "...               ...  \n",
       "5775            False  \n",
       "5776            False  \n",
       "5777            False  \n",
       "5778             True  \n",
       "5779             True  \n",
       "\n",
       "[5780 rows x 3 columns]"
      ]
     },
     "execution_count": 54,
     "metadata": {},
     "output_type": "execute_result"
    }
   ],
   "source": [
    "agg_funcs = {\n",
    "    'Headline': lambda x: ' '.join(x),\n",
    "    'price_increased': lambda x: all(x)\n",
    "}\n",
    "agg_news_df = news_df.groupby('Date').agg(agg_funcs).reset_index()\n",
    "agg_news_df"
   ]
  },
  {
   "cell_type": "code",
   "execution_count": 55,
   "metadata": {},
   "outputs": [],
   "source": [
    "from sklearn.preprocessing import LabelEncoder\n",
    "from tensorflow.keras.models import Sequential\n",
    "from tensorflow.keras.layers import Embedding, LSTM, Dense\n",
    "from gensim.models import Word2Vec"
   ]
  },
  {
   "cell_type": "code",
   "execution_count": 63,
   "metadata": {},
   "outputs": [],
   "source": [
    "# Preprocess the data\n",
    "encoder = LabelEncoder()\n",
    "agg_news_df['price_increased'] = encoder.fit_transform(agg_news_df['price_increased'])\n",
    "\n",
    "# Train Word2Vec model\n",
    "sentences = [headline.split() for headline in agg_news_df['Headline']]\n",
    "word2vec_model = Word2Vec(sentences, vector_size=100, window=5, min_count=3)\n",
    "\n",
    "# Tokenize and pad the headlines using Word2Vec embeddings\n",
    "max_words = len(word2vec_model.wv)\n",
    "embedding_matrix = np.zeros((max_words, word2vec_model.vector_size))\n",
    "for word, i in word2vec_model.wv.key_to_index.items():\n",
    "    if i < max_words:\n",
    "        embedding_matrix[i] = word2vec_model.wv[word]\n",
    "\n",
    "word_index = {word: i for i, word in enumerate(word2vec_model.wv.index_to_key)}\n",
    "sequences = [[word_index[word] for word in headline.split() if word in word_index] for headline in agg_news_df['Headline']]\n",
    "\n",
    "# Pad sequences\n",
    "padded_sequences = np.array([np.pad(seq, (0, max(0, 10 - len(seq))), 'constant')[:10] for seq in sequences])\n",
    "\n",
    "# Split the data into training and testing sets\n",
    "X_train, X_test, y_train, y_test = train_test_split(padded_sequences, agg_news_df['price_increased'], test_size=0.2, random_state=48)\n",
    "\n",
    "# Build the LSTM model\n",
    "model = Sequential([\n",
    "    Embedding(input_dim=max_words, output_dim=word2vec_model.vector_size, weights=[embedding_matrix], input_length=10, trainable=False),\n",
    "    LSTM(64),\n",
    "    Dense(1, activation='sigmoid')\n",
    "])"
   ]
  },
  {
   "cell_type": "code",
   "execution_count": 64,
   "metadata": {},
   "outputs": [],
   "source": [
    "# compile the model and specify optimizer, loss function\n",
    "model.compile(optimizer='adam', loss='binary_crossentropy', metrics=['accuracy'])"
   ]
  },
  {
   "cell_type": "code",
   "execution_count": 65,
   "metadata": {},
   "outputs": [
    {
     "name": "stdout",
     "output_type": "stream",
     "text": [
      "Epoch 1/3\n"
     ]
    },
    {
     "name": "stdout",
     "output_type": "stream",
     "text": [
      "145/145 [==============================] - 3s 8ms/step - loss: 0.6778 - accuracy: 0.5960 - val_loss: 0.6737 - val_accuracy: 0.6073\n",
      "Epoch 2/3\n",
      "145/145 [==============================] - 1s 6ms/step - loss: 0.6570 - accuracy: 0.6155 - val_loss: 0.6793 - val_accuracy: 0.5856\n",
      "Epoch 3/3\n",
      "145/145 [==============================] - 1s 6ms/step - loss: 0.6444 - accuracy: 0.6272 - val_loss: 0.6798 - val_accuracy: 0.5934\n"
     ]
    },
    {
     "data": {
      "text/plain": [
       "<keras.callbacks.History at 0x1ccbbabf520>"
      ]
     },
     "execution_count": 65,
     "metadata": {},
     "output_type": "execute_result"
    }
   ],
   "source": [
    "# train model\n",
    "model.fit(X_train, y_train, epochs=3, validation_data=(X_test, y_test))"
   ]
  },
  {
   "cell_type": "code",
   "execution_count": 66,
   "metadata": {},
   "outputs": [
    {
     "name": "stdout",
     "output_type": "stream",
     "text": [
      " 1/37 [..............................] - ETA: 0s - loss: 0.6606 - accuracy: 0.5625"
     ]
    },
    {
     "name": "stdout",
     "output_type": "stream",
     "text": [
      "37/37 [==============================] - 0s 3ms/step - loss: 0.6798 - accuracy: 0.5934\n",
      "Test Loss: 0.6798, Test Accuracy: 0.5934\n"
     ]
    }
   ],
   "source": [
    "# evaluate effectiveness of model\n",
    "loss, accuracy = model.evaluate(X_test, y_test)\n",
    "print(f'Test Loss: {loss:.4f}, Test Accuracy: {accuracy:.4f}')"
   ]
  },
  {
   "cell_type": "code",
   "execution_count": 67,
   "metadata": {},
   "outputs": [
    {
     "name": "stdout",
     "output_type": "stream",
     "text": [
      "37/37 [==============================] - 1s 3ms/step\n",
      "Number of False predictions: 0\n"
     ]
    }
   ],
   "source": [
    "y_pred = model.predict(X_test)\n",
    "print(\"Number of False predictions: \" + str(np.sum(y_pred == False)))"
   ]
  },
  {
   "cell_type": "code",
   "execution_count": null,
   "metadata": {},
   "outputs": [],
   "source": []
  }
 ],
 "metadata": {
  "kernelspec": {
   "display_name": "stock_news_proj",
   "language": "python",
   "name": "python3"
  },
  "language_info": {
   "codemirror_mode": {
    "name": "ipython",
    "version": 3
   },
   "file_extension": ".py",
   "mimetype": "text/x-python",
   "name": "python",
   "nbconvert_exporter": "python",
   "pygments_lexer": "ipython3",
   "version": "3.10.4"
  }
 },
 "nbformat": 4,
 "nbformat_minor": 2
}
